{
  "cells": [
    {
      "cell_type": "markdown",
      "metadata": {
        "id": "view-in-github",
        "colab_type": "text"
      },
      "source": [
        "<a href=\"https://colab.research.google.com/github/Tolulopeelijah/Cats-vs-Dog-classifier/blob/main/cats_vs_dogs.ipynb\" target=\"_parent\"><img src=\"https://colab.research.google.com/assets/colab-badge.svg\" alt=\"Open In Colab\"/></a>"
      ]
    },
    {
      "cell_type": "code",
      "execution_count": null,
      "metadata": {
        "id": "kRkGzAx98zUe"
      },
      "outputs": [],
      "source": [
        "! pip install -q kaggle"
      ]
    },
    {
      "cell_type": "code",
      "execution_count": null,
      "metadata": {
        "colab": {
          "base_uri": "https://localhost:8080/",
          "height": 92
        },
        "id": "nPonb-3P9erx",
        "outputId": "299777ad-eb01-483c-f708-d17b7ab643af"
      },
      "outputs": [
        {
          "output_type": "display_data",
          "data": {
            "text/plain": [
              "<IPython.core.display.HTML object>"
            ],
            "text/html": [
              "\n",
              "     <input type=\"file\" id=\"files-7b58e5d1-bc8b-4278-9e77-2820ba2aeaec\" name=\"files[]\" multiple disabled\n",
              "        style=\"border:none\" />\n",
              "     <output id=\"result-7b58e5d1-bc8b-4278-9e77-2820ba2aeaec\">\n",
              "      Upload widget is only available when the cell has been executed in the\n",
              "      current browser session. Please rerun this cell to enable.\n",
              "      </output>\n",
              "      <script>// Copyright 2017 Google LLC\n",
              "//\n",
              "// Licensed under the Apache License, Version 2.0 (the \"License\");\n",
              "// you may not use this file except in compliance with the License.\n",
              "// You may obtain a copy of the License at\n",
              "//\n",
              "//      http://www.apache.org/licenses/LICENSE-2.0\n",
              "//\n",
              "// Unless required by applicable law or agreed to in writing, software\n",
              "// distributed under the License is distributed on an \"AS IS\" BASIS,\n",
              "// WITHOUT WARRANTIES OR CONDITIONS OF ANY KIND, either express or implied.\n",
              "// See the License for the specific language governing permissions and\n",
              "// limitations under the License.\n",
              "\n",
              "/**\n",
              " * @fileoverview Helpers for google.colab Python module.\n",
              " */\n",
              "(function(scope) {\n",
              "function span(text, styleAttributes = {}) {\n",
              "  const element = document.createElement('span');\n",
              "  element.textContent = text;\n",
              "  for (const key of Object.keys(styleAttributes)) {\n",
              "    element.style[key] = styleAttributes[key];\n",
              "  }\n",
              "  return element;\n",
              "}\n",
              "\n",
              "// Max number of bytes which will be uploaded at a time.\n",
              "const MAX_PAYLOAD_SIZE = 100 * 1024;\n",
              "\n",
              "function _uploadFiles(inputId, outputId) {\n",
              "  const steps = uploadFilesStep(inputId, outputId);\n",
              "  const outputElement = document.getElementById(outputId);\n",
              "  // Cache steps on the outputElement to make it available for the next call\n",
              "  // to uploadFilesContinue from Python.\n",
              "  outputElement.steps = steps;\n",
              "\n",
              "  return _uploadFilesContinue(outputId);\n",
              "}\n",
              "\n",
              "// This is roughly an async generator (not supported in the browser yet),\n",
              "// where there are multiple asynchronous steps and the Python side is going\n",
              "// to poll for completion of each step.\n",
              "// This uses a Promise to block the python side on completion of each step,\n",
              "// then passes the result of the previous step as the input to the next step.\n",
              "function _uploadFilesContinue(outputId) {\n",
              "  const outputElement = document.getElementById(outputId);\n",
              "  const steps = outputElement.steps;\n",
              "\n",
              "  const next = steps.next(outputElement.lastPromiseValue);\n",
              "  return Promise.resolve(next.value.promise).then((value) => {\n",
              "    // Cache the last promise value to make it available to the next\n",
              "    // step of the generator.\n",
              "    outputElement.lastPromiseValue = value;\n",
              "    return next.value.response;\n",
              "  });\n",
              "}\n",
              "\n",
              "/**\n",
              " * Generator function which is called between each async step of the upload\n",
              " * process.\n",
              " * @param {string} inputId Element ID of the input file picker element.\n",
              " * @param {string} outputId Element ID of the output display.\n",
              " * @return {!Iterable<!Object>} Iterable of next steps.\n",
              " */\n",
              "function* uploadFilesStep(inputId, outputId) {\n",
              "  const inputElement = document.getElementById(inputId);\n",
              "  inputElement.disabled = false;\n",
              "\n",
              "  const outputElement = document.getElementById(outputId);\n",
              "  outputElement.innerHTML = '';\n",
              "\n",
              "  const pickedPromise = new Promise((resolve) => {\n",
              "    inputElement.addEventListener('change', (e) => {\n",
              "      resolve(e.target.files);\n",
              "    });\n",
              "  });\n",
              "\n",
              "  const cancel = document.createElement('button');\n",
              "  inputElement.parentElement.appendChild(cancel);\n",
              "  cancel.textContent = 'Cancel upload';\n",
              "  const cancelPromise = new Promise((resolve) => {\n",
              "    cancel.onclick = () => {\n",
              "      resolve(null);\n",
              "    };\n",
              "  });\n",
              "\n",
              "  // Wait for the user to pick the files.\n",
              "  const files = yield {\n",
              "    promise: Promise.race([pickedPromise, cancelPromise]),\n",
              "    response: {\n",
              "      action: 'starting',\n",
              "    }\n",
              "  };\n",
              "\n",
              "  cancel.remove();\n",
              "\n",
              "  // Disable the input element since further picks are not allowed.\n",
              "  inputElement.disabled = true;\n",
              "\n",
              "  if (!files) {\n",
              "    return {\n",
              "      response: {\n",
              "        action: 'complete',\n",
              "      }\n",
              "    };\n",
              "  }\n",
              "\n",
              "  for (const file of files) {\n",
              "    const li = document.createElement('li');\n",
              "    li.append(span(file.name, {fontWeight: 'bold'}));\n",
              "    li.append(span(\n",
              "        `(${file.type || 'n/a'}) - ${file.size} bytes, ` +\n",
              "        `last modified: ${\n",
              "            file.lastModifiedDate ? file.lastModifiedDate.toLocaleDateString() :\n",
              "                                    'n/a'} - `));\n",
              "    const percent = span('0% done');\n",
              "    li.appendChild(percent);\n",
              "\n",
              "    outputElement.appendChild(li);\n",
              "\n",
              "    const fileDataPromise = new Promise((resolve) => {\n",
              "      const reader = new FileReader();\n",
              "      reader.onload = (e) => {\n",
              "        resolve(e.target.result);\n",
              "      };\n",
              "      reader.readAsArrayBuffer(file);\n",
              "    });\n",
              "    // Wait for the data to be ready.\n",
              "    let fileData = yield {\n",
              "      promise: fileDataPromise,\n",
              "      response: {\n",
              "        action: 'continue',\n",
              "      }\n",
              "    };\n",
              "\n",
              "    // Use a chunked sending to avoid message size limits. See b/62115660.\n",
              "    let position = 0;\n",
              "    do {\n",
              "      const length = Math.min(fileData.byteLength - position, MAX_PAYLOAD_SIZE);\n",
              "      const chunk = new Uint8Array(fileData, position, length);\n",
              "      position += length;\n",
              "\n",
              "      const base64 = btoa(String.fromCharCode.apply(null, chunk));\n",
              "      yield {\n",
              "        response: {\n",
              "          action: 'append',\n",
              "          file: file.name,\n",
              "          data: base64,\n",
              "        },\n",
              "      };\n",
              "\n",
              "      let percentDone = fileData.byteLength === 0 ?\n",
              "          100 :\n",
              "          Math.round((position / fileData.byteLength) * 100);\n",
              "      percent.textContent = `${percentDone}% done`;\n",
              "\n",
              "    } while (position < fileData.byteLength);\n",
              "  }\n",
              "\n",
              "  // All done.\n",
              "  yield {\n",
              "    response: {\n",
              "      action: 'complete',\n",
              "    }\n",
              "  };\n",
              "}\n",
              "\n",
              "scope.google = scope.google || {};\n",
              "scope.google.colab = scope.google.colab || {};\n",
              "scope.google.colab._files = {\n",
              "  _uploadFiles,\n",
              "  _uploadFilesContinue,\n",
              "};\n",
              "})(self);\n",
              "</script> "
            ]
          },
          "metadata": {}
        },
        {
          "output_type": "stream",
          "name": "stdout",
          "text": [
            "Saving kaggle.json to kaggle.json\n"
          ]
        },
        {
          "output_type": "execute_result",
          "data": {
            "text/plain": [
              "{'kaggle.json': b'{\"username\":\"tolulopeelijah\",\"key\":\"210a7e92a996c2d01970b24cf756b16f\"}'}"
            ]
          },
          "metadata": {},
          "execution_count": 4
        }
      ],
      "source": [
        "from google.colab import files\n",
        "files.upload()"
      ]
    },
    {
      "cell_type": "code",
      "execution_count": null,
      "metadata": {
        "id": "9FosFvwc9ewQ"
      },
      "outputs": [],
      "source": [
        "! mkdir ~/.kaggle\n",
        "!cp kaggle.json ~/.kaggle"
      ]
    },
    {
      "cell_type": "code",
      "execution_count": null,
      "metadata": {
        "id": "iWGfx6h19e0C"
      },
      "outputs": [],
      "source": [
        "!chmod 600 ~/.kaggle/kaggle.json"
      ]
    },
    {
      "cell_type": "code",
      "execution_count": null,
      "metadata": {
        "colab": {
          "base_uri": "https://localhost:8080/"
        },
        "id": "1sogDNww9e3i",
        "outputId": "c396207a-b577-4020-a1bb-7a6a22720303"
      },
      "outputs": [
        {
          "output_type": "stream",
          "name": "stdout",
          "text": [
            "Downloading dogs-vs-cats.zip to /content\n",
            "100% 810M/812M [00:22<00:00, 37.8MB/s]\n",
            "100% 812M/812M [00:22<00:00, 37.1MB/s]\n"
          ]
        }
      ],
      "source": [
        "!kaggle competitions download -c dogs-vs-cats"
      ]
    },
    {
      "cell_type": "code",
      "execution_count": null,
      "metadata": {
        "colab": {
          "base_uri": "https://localhost:8080/"
        },
        "id": "MfD-tmwm9e-n",
        "outputId": "c495110e-b160-4beb-dc70-8e418b3cfe67"
      },
      "outputs": [
        {
          "output_type": "stream",
          "name": "stdout",
          "text": [
            "Archive:  dogs-vs-cats.zip\n",
            "  inflating: sampleSubmission.csv    \n",
            "  inflating: test1.zip               \n",
            "  inflating: train.zip               \n"
          ]
        }
      ],
      "source": [
        "! unzip dogs-vs-cats.zip"
      ]
    },
    {
      "cell_type": "code",
      "execution_count": null,
      "metadata": {
        "colab": {
          "base_uri": "https://localhost:8080/"
        },
        "id": "MdF93YxRcG9V",
        "outputId": "d1d5dae6-308a-4a59-afc3-e0f891519a38"
      },
      "outputs": [
        {
          "output_type": "stream",
          "name": "stdout",
          "text": [
            "Archive:  train.zip\n",
            "replace train/cat.0.jpg? [y]es, [n]o, [A]ll, [N]one, [r]ename: "
          ]
        }
      ],
      "source": [
        " ! unzip train.zip\n",
        " ! unzip test1.zip"
      ]
    },
    {
      "cell_type": "code",
      "execution_count": null,
      "metadata": {
        "id": "fL8kY_P7fh9m"
      },
      "outputs": [],
      "source": [
        "import tensorflow as tf\n",
        "from tensorflow import keras\n",
        "import matplotlib.pyplot as plt\n",
        "import os, shutil\n",
        "import pandas as pd\n",
        "import numpy as np\n",
        "from PIL import Image\n",
        "from random import sample\n",
        "from math import ceil"
      ]
    },
    {
      "cell_type": "code",
      "source": [
        "print(len(os.listdir('./train')))\n",
        "print(len(os.listdir('./test1')))"
      ],
      "metadata": {
        "id": "TNPULWe9pwSN"
      },
      "execution_count": null,
      "outputs": []
    },
    {
      "cell_type": "code",
      "source": [
        "path = './data/'\n",
        "subpaths = ['train/', 'test/']\n",
        "subsub = ['cats', 'dogs']\n",
        "for subpath in subpaths:\n",
        "  for sub in subsub:\n",
        "    dir = path+subpath+sub\n",
        "    os.makedirs(dir, exist_ok = True)"
      ],
      "metadata": {
        "id": "PWMVq0gz970G"
      },
      "execution_count": null,
      "outputs": []
    },
    {
      "cell_type": "code",
      "source": [
        "init_dest_path = './train/'\n",
        "dest_path = './data/train/'\n",
        "#  using 80% of the training set for the training and the other twenty for validation\n",
        "for img in sample(os.listdir(init_dest_path), ceil(0.8 * len(os.listdir(init_dest_path)))):\n",
        "  init_dest = init_dest_path + img\n",
        "  image_class = 'dogs' if img[:3] == 'dog' else 'cats' if img[:3] == 'cat' else 'none'\n",
        "  if image_class != 'none':\n",
        "    fin_dest = dest_path + image_class\n",
        "  shutil.move(init_dest, fin_dest)\n",
        "\n",
        "\n",
        "for img in (os.listdir(init_dest_path)):\n",
        "  init_dest = init_dest_path + img\n",
        "  image_class = 'dogs' if img[:3] == 'dog' else 'cats' if img[:3] == 'cat' else 'none'\n",
        "  if image_class != 'none':\n",
        "    fin_dest = './data/test/' + image_class\n",
        "  shutil.move(init_dest, fin_dest)"
      ],
      "metadata": {
        "id": "zeB4jAXCDAWl"
      },
      "execution_count": null,
      "outputs": []
    },
    {
      "cell_type": "code",
      "source": [
        "print(f'length of cats in train: {len(os.listdir(\"./data/train/cats/\"))}')\n",
        "print(f'length of dogs in train: {len(os.listdir(\"./data/train/dogs\"))}')\n",
        "print(f'length of cats in validation: {len(os.listdir(\"./data/test/cats\"))}')\n",
        "print(f'length of dogs in validation: {len(os.listdir(\"./data/test/dogs\"))}')"
      ],
      "metadata": {
        "id": "SXUljs8zQwJo"
      },
      "execution_count": null,
      "outputs": []
    },
    {
      "cell_type": "code",
      "source": [
        "10010 + 999 + 2490 + 2510"
      ],
      "metadata": {
        "id": "b0CvKkTkpiT4"
      },
      "execution_count": null,
      "outputs": []
    },
    {
      "cell_type": "code",
      "execution_count": null,
      "metadata": {
        "id": "hgkMQo9zfiB2"
      },
      "outputs": [],
      "source": [
        "path = './data/train/'\n",
        "images = os.listdir('./data/train/cats')[:8] + os.listdir('./data/train/dogs')[:8]\n",
        "plt.figure(figsize = (15,15))\n",
        "for num, image_name in enumerate(images):\n",
        "  image_path = path + 'cats/' + image_name if image_name[:3] == 'cat' else path + 'dogs/' + image_name\n",
        "  img = Image.open(image_path)\n",
        "  im = np.asarray(img)\n",
        "  plt.axis('off')\n",
        "  plt.subplot(4,4, num+1)\n",
        "  plt.imshow(im)"
      ]
    },
    {
      "cell_type": "code",
      "source": [],
      "metadata": {
        "id": "7TE1jBBNN4c2"
      },
      "execution_count": null,
      "outputs": []
    },
    {
      "cell_type": "code",
      "execution_count": null,
      "metadata": {
        "id": "nteUuyRimD0x"
      },
      "outputs": [],
      "source": [
        "path = './test1/'\n",
        "plt.figure(figsize = (15,15))\n",
        "for num, image_name in enumerate(os.listdir(path)[:16]):\n",
        "  image_path = path + image_name\n",
        "  img = Image.open(image_path)\n",
        "  im = np.asarray(img)\n",
        "  plt.axis('off')\n",
        "  plt.subplot(4,4, num+1)\n",
        "  plt.imshow(im)"
      ]
    },
    {
      "cell_type": "code",
      "execution_count": null,
      "metadata": {
        "id": "D0vpKE8rmKGr"
      },
      "outputs": [],
      "source": [
        "model = keras.models.Sequential([keras.layers.Conv2D(32, (3,3), input_shape = (300, 300, 3), activation = 'relu'),\n",
        "                                 keras.layers.MaxPool2D((2,2)),\n",
        "                                 keras.layers.Conv2D(64, (3,3), activation = 'relu'),\n",
        "                                 keras.layers.MaxPool2D((2,2)),\n",
        "                                 keras.layers.Conv2D(64, (3,3), activation = 'relu'),\n",
        "                                 keras.layers.MaxPool2D((2,2)),\n",
        "                                 keras.layers.Flatten(),\n",
        "                                 keras.layers.Dense(500, activation = 'relu'),\n",
        "                                 keras.layers.Dense(1, activation = 'sigmoid')])"
      ]
    },
    {
      "cell_type": "code",
      "execution_count": null,
      "metadata": {
        "id": "4Rw18DD_tKZb"
      },
      "outputs": [],
      "source": [
        "model.compile(optimizer = 'adam', loss = keras.losses.BinaryCrossentropy(), metrics = 'accuracy')"
      ]
    },
    {
      "cell_type": "code",
      "execution_count": null,
      "metadata": {
        "id": "7speJ9RKtpKn"
      },
      "outputs": [],
      "source": [
        "from keras.preprocessing.image import ImageDataGenerator"
      ]
    },
    {
      "cell_type": "code",
      "execution_count": null,
      "metadata": {
        "colab": {
          "base_uri": "https://localhost:8080/"
        },
        "id": "fsGahsVbtpO7",
        "outputId": "44dacfc2-baf5-4f15-b001-3de0d7b74a26"
      },
      "outputs": [
        {
          "output_type": "stream",
          "name": "stdout",
          "text": [
            "Found 20000 images belonging to 2 classes.\n",
            "Found 5000 images belonging to 2 classes.\n"
          ]
        }
      ],
      "source": [
        "train_data_generator = ImageDataGenerator(rescale = 1/255)\n",
        "val_data_generator = ImageDataGenerator(rescale = 1/255)\n",
        "\n",
        "train_data = train_data_generator.flow_from_directory('./data/train', target_size = (300,300), batch_size = 20, class_mode = 'binary')\n",
        "val_data = val_data_generator.flow_from_directory('./data/test', target_size = (300,300), batch_size = 20, class_mode = 'binary')"
      ]
    },
    {
      "cell_type": "code",
      "source": [
        "history = model.fit(train_data, \n",
        "                    steps_per_epoch = 1000,\n",
        "                    epochs = 20,\n",
        "                    verbose = 1,\n",
        "                    validation_data = val_data,\n",
        "                    validation_steps = 250)"
      ],
      "metadata": {
        "colab": {
          "base_uri": "https://localhost:8080/"
        },
        "id": "sd4mwhtTtPx6",
        "outputId": "ab60b6d4-4d99-42df-e362-12277ffe54d1"
      },
      "execution_count": null,
      "outputs": [
        {
          "output_type": "stream",
          "name": "stdout",
          "text": [
            "Epoch 1/20\n",
            "1000/1000 [==============================] - 107s 106ms/step - loss: 0.6648 - accuracy: 0.6007 - val_loss: 78.4746 - val_accuracy: 0.5925\n",
            "Epoch 2/20\n",
            "1000/1000 [==============================] - 104s 104ms/step - loss: 0.6061 - accuracy: 0.6783 - val_loss: 43.0510 - val_accuracy: 0.6290\n",
            "Epoch 3/20\n",
            "1000/1000 [==============================] - 103s 103ms/step - loss: 0.5487 - accuracy: 0.7235 - val_loss: 56.4937 - val_accuracy: 0.6310\n",
            "Epoch 4/20\n",
            "1000/1000 [==============================] - 100s 100ms/step - loss: 0.4249 - accuracy: 0.8036 - val_loss: 117.8515 - val_accuracy: 0.6190\n",
            "Epoch 5/20\n",
            "1000/1000 [==============================] - 100s 100ms/step - loss: 0.2096 - accuracy: 0.9137 - val_loss: 212.0852 - val_accuracy: 0.6040\n",
            "Epoch 6/20\n",
            "1000/1000 [==============================] - 100s 100ms/step - loss: 0.0619 - accuracy: 0.9789 - val_loss: 486.7854 - val_accuracy: 0.6110\n",
            "Epoch 7/20\n",
            "1000/1000 [==============================] - 100s 100ms/step - loss: 0.0375 - accuracy: 0.9890 - val_loss: 559.5807 - val_accuracy: 0.6355\n",
            "Epoch 8/20\n",
            "1000/1000 [==============================] - 100s 100ms/step - loss: 0.0259 - accuracy: 0.9931 - val_loss: 550.9742 - val_accuracy: 0.6200\n",
            "Epoch 9/20\n",
            "1000/1000 [==============================] - 99s 99ms/step - loss: 0.0224 - accuracy: 0.9931 - val_loss: 760.2366 - val_accuracy: 0.6195\n",
            "Epoch 10/20\n",
            "1000/1000 [==============================] - 99s 99ms/step - loss: 0.0228 - accuracy: 0.9942 - val_loss: 612.5373 - val_accuracy: 0.6185\n",
            "Epoch 11/20\n",
            "1000/1000 [==============================] - 100s 100ms/step - loss: 0.0128 - accuracy: 0.9958 - val_loss: 671.9173 - val_accuracy: 0.6250\n",
            "Epoch 12/20\n",
            "1000/1000 [==============================] - 102s 102ms/step - loss: 0.0219 - accuracy: 0.9931 - val_loss: 842.2484 - val_accuracy: 0.6155\n",
            "Epoch 13/20\n",
            "1000/1000 [==============================] - 99s 99ms/step - loss: 0.0138 - accuracy: 0.9956 - val_loss: 820.1037 - val_accuracy: 0.6225\n",
            "Epoch 14/20\n",
            "1000/1000 [==============================] - 99s 99ms/step - loss: 0.0109 - accuracy: 0.9972 - val_loss: 879.5490 - val_accuracy: 0.6115\n",
            "Epoch 15/20\n",
            "1000/1000 [==============================] - 100s 100ms/step - loss: 0.0119 - accuracy: 0.9963 - val_loss: 824.8948 - val_accuracy: 0.6245\n",
            "Epoch 16/20\n",
            "1000/1000 [==============================] - 100s 100ms/step - loss: 0.0189 - accuracy: 0.9947 - val_loss: 804.6953 - val_accuracy: 0.6290\n",
            "Epoch 17/20\n",
            " 454/1000 [============>.................] - ETA: 50s - loss: 0.0101 - accuracy: 0.9966"
          ]
        }
      ]
    }
  ],
  "metadata": {
    "colab": {
      "provenance": [],
      "authorship_tag": "ABX9TyMUUYSdr/nW26pEHpkfyFuU",
      "include_colab_link": true
    },
    "kernelspec": {
      "display_name": "Python 3",
      "name": "python3"
    },
    "language_info": {
      "name": "python"
    },
    "accelerator": "GPU",
    "gpuClass": "standard"
  },
  "nbformat": 4,
  "nbformat_minor": 0
}